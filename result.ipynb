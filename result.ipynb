{
 "cells": [
  {
   "cell_type": "markdown",
   "metadata": {},
   "source": [
    "### Импорт библиотек"
   ]
  },
  {
   "cell_type": "code",
   "execution_count": 69,
   "metadata": {},
   "outputs": [
    {
     "name": "stderr",
     "output_type": "stream",
     "text": [
      "[nltk_data] Downloading package wordnet to\n",
      "[nltk_data]     C:\\Users\\steam\\AppData\\Roaming\\nltk_data...\n",
      "[nltk_data]   Package wordnet is already up-to-date!\n",
      "[nltk_data] Downloading package stopwords to\n",
      "[nltk_data]     C:\\Users\\steam\\AppData\\Roaming\\nltk_data...\n",
      "[nltk_data]   Package stopwords is already up-to-date!\n",
      "C:\\Users\\steam\\anaconda3\\lib\\site-packages\\tqdm\\std.py:670: FutureWarning: The Panel class is removed from pandas. Accessing it from the top-level namespace will also be removed in the next version\n",
      "  from pandas import Panel\n"
     ]
    }
   ],
   "source": [
    "from itertools import combinations\n",
    "from sklearn.preprocessing import OrdinalEncoder\n",
    "from tqdm import tqdm\n",
    "from bs4 import BeautifulSoup\n",
    "import urllib.request, sys, time\n",
    "import requests\n",
    "from razdel import sentenize\n",
    "import pandas as pd\n",
    "import re\n",
    "import numpy as np\n",
    "from bs4 import BeautifulSoup\n",
    "import contractions\n",
    "import re\n",
    "import tqdm\n",
    "import unicodedata\n",
    "from random import seed\n",
    "seed(2)\n",
    "import pymorphy2\n",
    "import ast\n",
    "\n",
    "import syllables\n",
    "import rusyllab\n",
    "import seaborn as sns\n",
    "%matplotlib inline\n",
    "\n",
    "from nltk import sent_tokenize, word_tokenize\n",
    "import holidays\n",
    "\n",
    "import nltk\n",
    "from nltk.corpus import stopwords\n",
    "stopwords = set(stopwords.words('russian'))\n",
    "nltk.download('wordnet')\n",
    "nltk.download('stopwords');\n",
    "from sklearn.preprocessing import OneHotEncoder\n",
    "from sklearn.model_selection import cross_val_score\n",
    "\n",
    "from tqdm.contrib import tzip\n",
    "from time import sleep\n",
    "from xgboost import XGBRegressor\n",
    "from catboost import CatBoostRegressor\n",
    "\n",
    "from pymystem3 import Mystem\n",
    "from datetime import datetime\n",
    "from sklearn.feature_extraction.text import TfidfVectorizer\n",
    "from tqdm import tqdm\n",
    "tqdm.pandas() \n",
    "\n",
    "ru_holidays = holidays.country_holidays('RU')\n",
    "from collections import Counter"
   ]
  },
  {
   "cell_type": "code",
   "execution_count": 2,
   "metadata": {},
   "outputs": [],
   "source": [
    "df_train = pd.read_csv('full_last_train.csv').drop(columns=['Unnamed: 0'])"
   ]
  },
  {
   "cell_type": "markdown",
   "metadata": {},
   "source": [
    "### Удаление выбросов"
   ]
  },
  {
   "cell_type": "code",
   "execution_count": 3,
   "metadata": {},
   "outputs": [],
   "source": [
    "df_train = df_train[df_train['full_reads_percent']<100]"
   ]
  },
  {
   "cell_type": "code",
   "execution_count": 65,
   "metadata": {},
   "outputs": [
    {
     "data": {
      "text/html": [
       "<div>\n",
       "<style scoped>\n",
       "    .dataframe tbody tr th:only-of-type {\n",
       "        vertical-align: middle;\n",
       "    }\n",
       "\n",
       "    .dataframe tbody tr th {\n",
       "        vertical-align: top;\n",
       "    }\n",
       "\n",
       "    .dataframe thead th {\n",
       "        text-align: right;\n",
       "    }\n",
       "</style>\n",
       "<table border=\"1\" class=\"dataframe\">\n",
       "  <thead>\n",
       "    <tr style=\"text-align: right;\">\n",
       "      <th></th>\n",
       "      <th>views</th>\n",
       "      <th>full_reads_percent</th>\n",
       "      <th>depth</th>\n",
       "      <th>authors</th>\n",
       "      <th>cat</th>\n",
       "      <th>ctr</th>\n",
       "      <th>day</th>\n",
       "      <th>month</th>\n",
       "      <th>hour</th>\n",
       "      <th>weekend</th>\n",
       "      <th>...</th>\n",
       "      <th>tag_КНДР</th>\n",
       "      <th>tag_Виктор Орбан</th>\n",
       "      <th>tag_посол</th>\n",
       "      <th>tag_рубли</th>\n",
       "      <th>tag_главные новости</th>\n",
       "      <th>tag_пожары</th>\n",
       "      <th>tag_Джо Байден</th>\n",
       "      <th>tag_самолет</th>\n",
       "      <th>tag_Евросоюз</th>\n",
       "      <th>tag_Дети</th>\n",
       "    </tr>\n",
       "  </thead>\n",
       "  <tbody>\n",
       "    <tr>\n",
       "      <th>0</th>\n",
       "      <td>20460</td>\n",
       "      <td>35.850</td>\n",
       "      <td>1.134</td>\n",
       "      <td>560</td>\n",
       "      <td>Финансы</td>\n",
       "      <td>1.580</td>\n",
       "      <td>4</td>\n",
       "      <td>4</td>\n",
       "      <td>10</td>\n",
       "      <td>0</td>\n",
       "      <td>...</td>\n",
       "      <td>0</td>\n",
       "      <td>0</td>\n",
       "      <td>0</td>\n",
       "      <td>0</td>\n",
       "      <td>0</td>\n",
       "      <td>0</td>\n",
       "      <td>0</td>\n",
       "      <td>0</td>\n",
       "      <td>0</td>\n",
       "      <td>0</td>\n",
       "    </tr>\n",
       "    <tr>\n",
       "      <th>1</th>\n",
       "      <td>19038</td>\n",
       "      <td>38.355</td>\n",
       "      <td>1.142</td>\n",
       "      <td>38</td>\n",
       "      <td>Политика</td>\n",
       "      <td>1.853</td>\n",
       "      <td>18</td>\n",
       "      <td>2</td>\n",
       "      <td>10</td>\n",
       "      <td>0</td>\n",
       "      <td>...</td>\n",
       "      <td>0</td>\n",
       "      <td>0</td>\n",
       "      <td>0</td>\n",
       "      <td>0</td>\n",
       "      <td>0</td>\n",
       "      <td>0</td>\n",
       "      <td>0</td>\n",
       "      <td>0</td>\n",
       "      <td>0</td>\n",
       "      <td>0</td>\n",
       "    </tr>\n",
       "  </tbody>\n",
       "</table>\n",
       "<p>2 rows × 267 columns</p>\n",
       "</div>"
      ],
      "text/plain": [
       "   views  full_reads_percent  depth  authors       cat    ctr  day  month  \\\n",
       "0  20460              35.850  1.134      560   Финансы  1.580    4      4   \n",
       "1  19038              38.355  1.142       38  Политика  1.853   18      2   \n",
       "\n",
       "   hour  weekend  ...  tag_КНДР  tag_Виктор Орбан  tag_посол  tag_рубли  \\\n",
       "0    10        0  ...         0                 0          0          0   \n",
       "1    10        0  ...         0                 0          0          0   \n",
       "\n",
       "   tag_главные новости  tag_пожары  tag_Джо Байден  tag_самолет  tag_Евросоюз  \\\n",
       "0                    0           0               0            0             0   \n",
       "1                    0           0               0            0             0   \n",
       "\n",
       "   tag_Дети  \n",
       "0         0  \n",
       "1         0  \n",
       "\n",
       "[2 rows x 267 columns]"
      ]
     },
     "execution_count": 65,
     "metadata": {},
     "output_type": "execute_result"
    }
   ],
   "source": [
    "df_train.head(2)"
   ]
  },
  {
   "cell_type": "code",
   "execution_count": 5,
   "metadata": {},
   "outputs": [],
   "source": [
    "df_test = pd.read_csv('full_last_test.csv').drop(columns=['Unnamed: 0'])"
   ]
  },
  {
   "cell_type": "markdown",
   "metadata": {},
   "source": [
    "### Получение информации о тэгах"
   ]
  },
  {
   "cell_type": "code",
   "execution_count": 6,
   "metadata": {},
   "outputs": [],
   "source": [
    "def get_all_tags(df_tags):\n",
    "    tags = []\n",
    "    for tag in df_tags:\n",
    "        t = ast.literal_eval(tag)\n",
    "        tags.extend(t)\n",
    "    return tags"
   ]
  },
  {
   "cell_type": "code",
   "execution_count": 7,
   "metadata": {},
   "outputs": [],
   "source": [
    "def get_tags_info(df):\n",
    "    tags, views, fulls = [], [], []\n",
    "    for tag, view, full in zip(df['tag'], df['views'], df['full_reads_percent']):\n",
    "        t = ast.literal_eval(tag)\n",
    "        v = [view]*len(t)\n",
    "        f = [full]*len(t)\n",
    "        tags.extend(t)\n",
    "        views.extend(v)\n",
    "        fulls.extend(f)\n",
    "    return tags, views, fulls"
   ]
  },
  {
   "cell_type": "code",
   "execution_count": 8,
   "metadata": {},
   "outputs": [],
   "source": [
    "def get_most_common(all_tags, num=350):\n",
    "    most_common = Counter(all_tags).most_common()[:num]\n",
    "    most_common = [common[0] for common in most_common]\n",
    "    return most_common"
   ]
  },
  {
   "cell_type": "code",
   "execution_count": 9,
   "metadata": {},
   "outputs": [],
   "source": [
    "def get_binary_tags(tags):\n",
    "    binary_tags = np.zeros(len(most_common_tags), dtype=int)\n",
    "    tags = ast.literal_eval(tags)\n",
    "    for tag in tags:\n",
    "        try:\n",
    "            index = most_common_tags.index(tag)\n",
    "            binary_tags[index] = 1\n",
    "        except:\n",
    "            pass\n",
    "    return list(binary_tags)"
   ]
  },
  {
   "cell_type": "code",
   "execution_count": 10,
   "metadata": {},
   "outputs": [],
   "source": [
    "tags, views, fulls = get_tags_info(df_train)"
   ]
  },
  {
   "cell_type": "code",
   "execution_count": 11,
   "metadata": {},
   "outputs": [],
   "source": [
    "tag_dic = dict(Counter(tags))"
   ]
  },
  {
   "cell_type": "code",
   "execution_count": 12,
   "metadata": {},
   "outputs": [],
   "source": [
    "voc = {'tags':tags, 'views':views, 'full':fulls}\n",
    "tag_info = pd.DataFrame(voc)"
   ]
  },
  {
   "cell_type": "code",
   "execution_count": 13,
   "metadata": {},
   "outputs": [],
   "source": [
    "def count_tag(tag):\n",
    "    return tag_dic[tag]"
   ]
  },
  {
   "cell_type": "code",
   "execution_count": 14,
   "metadata": {},
   "outputs": [],
   "source": [
    "col = 'views'\n",
    "views_tags = pd.DataFrame(tag_info.groupby('tags')[col].mean())\n",
    "views_tags = views_tags.sort_values(by=[col], ascending=False).reset_index()"
   ]
  },
  {
   "cell_type": "code",
   "execution_count": 15,
   "metadata": {},
   "outputs": [],
   "source": [
    "views_tags['count_tag'] = views_tags['tags'].apply(count_tag)"
   ]
  },
  {
   "cell_type": "markdown",
   "metadata": {},
   "source": [
    "### Получение влияющих на просмотры тэгов"
   ]
  },
  {
   "cell_type": "code",
   "execution_count": 16,
   "metadata": {},
   "outputs": [
    {
     "data": {
      "text/plain": [
       "41                    рубль\n",
       "43          главные новости\n",
       "61               Джо Байден\n",
       "73                    рубли\n",
       "150                    НАТО\n",
       "165                 Газпром\n",
       "230                     газ\n",
       "241                  Россия\n",
       "251          Владимир Путин\n",
       "272                  Сербия\n",
       "328          Рамзан Кадыров\n",
       "357    Владимир Жириновский\n",
       "388                     США\n",
       "415                     ЛНР\n",
       "422                 экспорт\n",
       "451                   Чечня\n",
       "473                     ДНР\n",
       "474              Олаф Шольц\n",
       "480                Евросоюз\n",
       "492                    Киев\n",
       "Name: tags, dtype: object"
      ]
     },
     "execution_count": 16,
     "metadata": {},
     "output_type": "execute_result"
    }
   ],
   "source": [
    "views_tags[views_tags['count_tag'] > 20]['tags'][:20]"
   ]
  },
  {
   "cell_type": "code",
   "execution_count": 17,
   "metadata": {},
   "outputs": [],
   "source": [
    "view_tags = list(views_tags[views_tags['count_tag'] > 20]['tags'][:20])"
   ]
  },
  {
   "cell_type": "code",
   "execution_count": 18,
   "metadata": {},
   "outputs": [],
   "source": [
    "col = 'full'\n",
    "views_tags = pd.DataFrame(tag_info.groupby('tags')[col].mean())\n",
    "views_tags = views_tags.sort_values(by=[col], ascending=False).reset_index()\n",
    "views_tags['count_tag'] = views_tags['tags'].apply(count_tag)"
   ]
  },
  {
   "cell_type": "markdown",
   "metadata": {},
   "source": [
    "### Получение тэгов, влияющих на процент полного просмотра"
   ]
  },
  {
   "cell_type": "code",
   "execution_count": 19,
   "metadata": {},
   "outputs": [
    {
     "data": {
      "text/plain": [
       "409              мультимедиа\n",
       "677                    Пожар\n",
       "767                     КНДР\n",
       "915                   пожары\n",
       "1022                 самолет\n",
       "1058                 встреча\n",
       "1091                стрельба\n",
       "1137                  Погода\n",
       "1225                     ДТП\n",
       "1232                    Дети\n",
       "1306                  учения\n",
       "1332    Следственный комитет\n",
       "1346                      СК\n",
       "1381            Виктор Орбан\n",
       "1386     Александр Бастрыкин\n",
       "1423                 обстрел\n",
       "1454                  Япония\n",
       "1457                     МЧС\n",
       "1473    Владимир Жириновский\n",
       "1486                   посол\n",
       "Name: tags, dtype: object"
      ]
     },
     "execution_count": 19,
     "metadata": {},
     "output_type": "execute_result"
    }
   ],
   "source": [
    "views_tags[views_tags['count_tag'] > 20]['tags'][:20]"
   ]
  },
  {
   "cell_type": "code",
   "execution_count": 20,
   "metadata": {},
   "outputs": [],
   "source": [
    "full_tags = list(views_tags[views_tags['count_tag'] > 20]['tags'][:20])"
   ]
  },
  {
   "cell_type": "markdown",
   "metadata": {},
   "source": [
    "### Переводим тэги в бинарное представление"
   ]
  },
  {
   "cell_type": "code",
   "execution_count": 1,
   "metadata": {},
   "outputs": [],
   "source": [
    "def df_binary_tags(df_train):\n",
    "    all_binary = []\n",
    "    for tags in df_train['tag']:\n",
    "        binary_tags = list(get_binary_tags(tags))\n",
    "        all_binary.append(binary_tags)\n",
    "    tag_names = ['tag_'+tag for tag in most_common_tags]\n",
    "    result = np.array(all_binary, dtype=int)\n",
    "    df_tags = pd.DataFrame(result, columns=tag_names, index=df_train.index)\n",
    "    return df_tags"
   ]
  },
  {
   "cell_type": "code",
   "execution_count": 22,
   "metadata": {},
   "outputs": [],
   "source": [
    "final_tags = view_tags + full_tags"
   ]
  },
  {
   "cell_type": "code",
   "execution_count": 23,
   "metadata": {},
   "outputs": [],
   "source": [
    "most_common_tags = list(set(final_tags))"
   ]
  },
  {
   "cell_type": "code",
   "execution_count": 24,
   "metadata": {},
   "outputs": [],
   "source": [
    "train_tags = df_binary_tags(df_train)"
   ]
  },
  {
   "cell_type": "code",
   "execution_count": 71,
   "metadata": {},
   "outputs": [
    {
     "data": {
      "text/html": [
       "<div>\n",
       "<style scoped>\n",
       "    .dataframe tbody tr th:only-of-type {\n",
       "        vertical-align: middle;\n",
       "    }\n",
       "\n",
       "    .dataframe tbody tr th {\n",
       "        vertical-align: top;\n",
       "    }\n",
       "\n",
       "    .dataframe thead th {\n",
       "        text-align: right;\n",
       "    }\n",
       "</style>\n",
       "<table border=\"1\" class=\"dataframe\">\n",
       "  <thead>\n",
       "    <tr style=\"text-align: right;\">\n",
       "      <th></th>\n",
       "      <th>tag_НАТО</th>\n",
       "      <th>tag_Рамзан Кадыров</th>\n",
       "      <th>tag_ЛНР</th>\n",
       "      <th>tag_СК</th>\n",
       "      <th>tag_Япония</th>\n",
       "      <th>tag_Следственный комитет</th>\n",
       "      <th>tag_Газпром</th>\n",
       "      <th>tag_Владимир Путин</th>\n",
       "      <th>tag_рубль</th>\n",
       "      <th>tag_Олаф Шольц</th>\n",
       "      <th>...</th>\n",
       "      <th>tag_КНДР</th>\n",
       "      <th>tag_Виктор Орбан</th>\n",
       "      <th>tag_посол</th>\n",
       "      <th>tag_рубли</th>\n",
       "      <th>tag_главные новости</th>\n",
       "      <th>tag_пожары</th>\n",
       "      <th>tag_Джо Байден</th>\n",
       "      <th>tag_самолет</th>\n",
       "      <th>tag_Евросоюз</th>\n",
       "      <th>tag_Дети</th>\n",
       "    </tr>\n",
       "  </thead>\n",
       "  <tbody>\n",
       "    <tr>\n",
       "      <th>0</th>\n",
       "      <td>0</td>\n",
       "      <td>0</td>\n",
       "      <td>0</td>\n",
       "      <td>0</td>\n",
       "      <td>0</td>\n",
       "      <td>0</td>\n",
       "      <td>0</td>\n",
       "      <td>0</td>\n",
       "      <td>0</td>\n",
       "      <td>0</td>\n",
       "      <td>...</td>\n",
       "      <td>0</td>\n",
       "      <td>0</td>\n",
       "      <td>0</td>\n",
       "      <td>0</td>\n",
       "      <td>0</td>\n",
       "      <td>0</td>\n",
       "      <td>0</td>\n",
       "      <td>0</td>\n",
       "      <td>0</td>\n",
       "      <td>0</td>\n",
       "    </tr>\n",
       "  </tbody>\n",
       "</table>\n",
       "<p>1 rows × 39 columns</p>\n",
       "</div>"
      ],
      "text/plain": [
       "   tag_НАТО  tag_Рамзан Кадыров  tag_ЛНР  tag_СК  tag_Япония  \\\n",
       "0         0                   0        0       0           0   \n",
       "\n",
       "   tag_Следственный комитет  tag_Газпром  tag_Владимир Путин  tag_рубль  \\\n",
       "0                         0            0                   0          0   \n",
       "\n",
       "   tag_Олаф Шольц  ...  tag_КНДР  tag_Виктор Орбан  tag_посол  tag_рубли  \\\n",
       "0               0  ...         0                 0          0          0   \n",
       "\n",
       "   tag_главные новости  tag_пожары  tag_Джо Байден  tag_самолет  tag_Евросоюз  \\\n",
       "0                    0           0               0            0             0   \n",
       "\n",
       "   tag_Дети  \n",
       "0         0  \n",
       "\n",
       "[1 rows x 39 columns]"
      ]
     },
     "execution_count": 71,
     "metadata": {},
     "output_type": "execute_result"
    }
   ],
   "source": [
    "train_tags.head(1)"
   ]
  },
  {
   "cell_type": "code",
   "execution_count": 26,
   "metadata": {},
   "outputs": [],
   "source": [
    "test_tags = df_binary_tags(df_test)"
   ]
  },
  {
   "cell_type": "code",
   "execution_count": 70,
   "metadata": {},
   "outputs": [
    {
     "data": {
      "text/html": [
       "<div>\n",
       "<style scoped>\n",
       "    .dataframe tbody tr th:only-of-type {\n",
       "        vertical-align: middle;\n",
       "    }\n",
       "\n",
       "    .dataframe tbody tr th {\n",
       "        vertical-align: top;\n",
       "    }\n",
       "\n",
       "    .dataframe thead th {\n",
       "        text-align: right;\n",
       "    }\n",
       "</style>\n",
       "<table border=\"1\" class=\"dataframe\">\n",
       "  <thead>\n",
       "    <tr style=\"text-align: right;\">\n",
       "      <th></th>\n",
       "      <th>tag_НАТО</th>\n",
       "      <th>tag_Рамзан Кадыров</th>\n",
       "      <th>tag_ЛНР</th>\n",
       "      <th>tag_СК</th>\n",
       "      <th>tag_Япония</th>\n",
       "      <th>tag_Следственный комитет</th>\n",
       "      <th>tag_Газпром</th>\n",
       "      <th>tag_Владимир Путин</th>\n",
       "      <th>tag_рубль</th>\n",
       "      <th>tag_Олаф Шольц</th>\n",
       "      <th>...</th>\n",
       "      <th>tag_КНДР</th>\n",
       "      <th>tag_Виктор Орбан</th>\n",
       "      <th>tag_посол</th>\n",
       "      <th>tag_рубли</th>\n",
       "      <th>tag_главные новости</th>\n",
       "      <th>tag_пожары</th>\n",
       "      <th>tag_Джо Байден</th>\n",
       "      <th>tag_самолет</th>\n",
       "      <th>tag_Евросоюз</th>\n",
       "      <th>tag_Дети</th>\n",
       "    </tr>\n",
       "  </thead>\n",
       "  <tbody>\n",
       "    <tr>\n",
       "      <th>0</th>\n",
       "      <td>0</td>\n",
       "      <td>0</td>\n",
       "      <td>0</td>\n",
       "      <td>0</td>\n",
       "      <td>0</td>\n",
       "      <td>0</td>\n",
       "      <td>0</td>\n",
       "      <td>0</td>\n",
       "      <td>0</td>\n",
       "      <td>0</td>\n",
       "      <td>...</td>\n",
       "      <td>0</td>\n",
       "      <td>0</td>\n",
       "      <td>0</td>\n",
       "      <td>0</td>\n",
       "      <td>0</td>\n",
       "      <td>0</td>\n",
       "      <td>0</td>\n",
       "      <td>0</td>\n",
       "      <td>0</td>\n",
       "      <td>0</td>\n",
       "    </tr>\n",
       "  </tbody>\n",
       "</table>\n",
       "<p>1 rows × 39 columns</p>\n",
       "</div>"
      ],
      "text/plain": [
       "   tag_НАТО  tag_Рамзан Кадыров  tag_ЛНР  tag_СК  tag_Япония  \\\n",
       "0         0                   0        0       0           0   \n",
       "\n",
       "   tag_Следственный комитет  tag_Газпром  tag_Владимир Путин  tag_рубль  \\\n",
       "0                         0            0                   0          0   \n",
       "\n",
       "   tag_Олаф Шольц  ...  tag_КНДР  tag_Виктор Орбан  tag_посол  tag_рубли  \\\n",
       "0               0  ...         0                 0          0          0   \n",
       "\n",
       "   tag_главные новости  tag_пожары  tag_Джо Байден  tag_самолет  tag_Евросоюз  \\\n",
       "0                    0           0               0            0             0   \n",
       "\n",
       "   tag_Дети  \n",
       "0         0  \n",
       "\n",
       "[1 rows x 39 columns]"
      ]
     },
     "execution_count": 70,
     "metadata": {},
     "output_type": "execute_result"
    }
   ],
   "source": [
    "test_tags.head(1)"
   ]
  },
  {
   "cell_type": "code",
   "execution_count": 30,
   "metadata": {},
   "outputs": [],
   "source": [
    "columns_ = pd.DataFrame(columns=train_tags.columns)"
   ]
  },
  {
   "cell_type": "code",
   "execution_count": 59,
   "metadata": {},
   "outputs": [
    {
     "data": {
      "text/html": [
       "<div>\n",
       "<style scoped>\n",
       "    .dataframe tbody tr th:only-of-type {\n",
       "        vertical-align: middle;\n",
       "    }\n",
       "\n",
       "    .dataframe tbody tr th {\n",
       "        vertical-align: top;\n",
       "    }\n",
       "\n",
       "    .dataframe thead th {\n",
       "        text-align: right;\n",
       "    }\n",
       "</style>\n",
       "<table border=\"1\" class=\"dataframe\">\n",
       "  <thead>\n",
       "    <tr style=\"text-align: right;\">\n",
       "      <th></th>\n",
       "      <th>views</th>\n",
       "      <th>full_reads_percent</th>\n",
       "      <th>depth</th>\n",
       "      <th>authors</th>\n",
       "      <th>cat</th>\n",
       "      <th>ctr</th>\n",
       "      <th>day</th>\n",
       "      <th>month</th>\n",
       "      <th>hour</th>\n",
       "      <th>weekend</th>\n",
       "      <th>...</th>\n",
       "      <th>tag_КНДР</th>\n",
       "      <th>tag_Виктор Орбан</th>\n",
       "      <th>tag_посол</th>\n",
       "      <th>tag_рубли</th>\n",
       "      <th>tag_главные новости</th>\n",
       "      <th>tag_пожары</th>\n",
       "      <th>tag_Джо Байден</th>\n",
       "      <th>tag_самолет</th>\n",
       "      <th>tag_Евросоюз</th>\n",
       "      <th>tag_Дети</th>\n",
       "    </tr>\n",
       "  </thead>\n",
       "  <tbody>\n",
       "    <tr>\n",
       "      <th>0</th>\n",
       "      <td>20460</td>\n",
       "      <td>35.850</td>\n",
       "      <td>1.134</td>\n",
       "      <td>560</td>\n",
       "      <td>Финансы</td>\n",
       "      <td>1.580</td>\n",
       "      <td>4</td>\n",
       "      <td>4</td>\n",
       "      <td>10</td>\n",
       "      <td>0</td>\n",
       "      <td>...</td>\n",
       "      <td>0</td>\n",
       "      <td>0</td>\n",
       "      <td>0</td>\n",
       "      <td>0</td>\n",
       "      <td>0</td>\n",
       "      <td>0</td>\n",
       "      <td>0</td>\n",
       "      <td>0</td>\n",
       "      <td>0</td>\n",
       "      <td>0</td>\n",
       "    </tr>\n",
       "    <tr>\n",
       "      <th>1</th>\n",
       "      <td>19038</td>\n",
       "      <td>38.355</td>\n",
       "      <td>1.142</td>\n",
       "      <td>38</td>\n",
       "      <td>Политика</td>\n",
       "      <td>1.853</td>\n",
       "      <td>18</td>\n",
       "      <td>2</td>\n",
       "      <td>10</td>\n",
       "      <td>0</td>\n",
       "      <td>...</td>\n",
       "      <td>0</td>\n",
       "      <td>0</td>\n",
       "      <td>0</td>\n",
       "      <td>0</td>\n",
       "      <td>0</td>\n",
       "      <td>0</td>\n",
       "      <td>0</td>\n",
       "      <td>0</td>\n",
       "      <td>0</td>\n",
       "      <td>0</td>\n",
       "    </tr>\n",
       "  </tbody>\n",
       "</table>\n",
       "<p>2 rows × 267 columns</p>\n",
       "</div>"
      ],
      "text/plain": [
       "   views  full_reads_percent  depth  authors       cat    ctr  day  month  \\\n",
       "0  20460              35.850  1.134      560   Финансы  1.580    4      4   \n",
       "1  19038              38.355  1.142       38  Политика  1.853   18      2   \n",
       "\n",
       "   hour  weekend  ...  tag_КНДР  tag_Виктор Орбан  tag_посол  tag_рубли  \\\n",
       "0    10        0  ...         0                 0          0          0   \n",
       "1    10        0  ...         0                 0          0          0   \n",
       "\n",
       "   tag_главные новости  tag_пожары  tag_Джо Байден  tag_самолет  tag_Евросоюз  \\\n",
       "0                    0           0               0            0             0   \n",
       "1                    0           0               0            0             0   \n",
       "\n",
       "   tag_Дети  \n",
       "0         0  \n",
       "1         0  \n",
       "\n",
       "[2 rows x 267 columns]"
      ]
     },
     "execution_count": 59,
     "metadata": {},
     "output_type": "execute_result"
    }
   ],
   "source": [
    "df_train.head(2)"
   ]
  },
  {
   "cell_type": "markdown",
   "metadata": {},
   "source": [
    "### Объединяем тестовый и трейновый датасет с тэгами"
   ]
  },
  {
   "cell_type": "code",
   "execution_count": 32,
   "metadata": {},
   "outputs": [],
   "source": [
    "df_train = pd.concat([df_train, train_tags], axis= 1).drop(columns=['tag'])"
   ]
  },
  {
   "cell_type": "code",
   "execution_count": 36,
   "metadata": {},
   "outputs": [],
   "source": [
    "df_test = pd.concat([df_test, test_tags], axis= 1).drop(columns=['tag'])"
   ]
  },
  {
   "cell_type": "code",
   "execution_count": 37,
   "metadata": {},
   "outputs": [
    {
     "name": "stdout",
     "output_type": "stream",
     "text": [
      "3000\n"
     ]
    },
    {
     "data": {
      "text/html": [
       "<div>\n",
       "<style scoped>\n",
       "    .dataframe tbody tr th:only-of-type {\n",
       "        vertical-align: middle;\n",
       "    }\n",
       "\n",
       "    .dataframe tbody tr th {\n",
       "        vertical-align: top;\n",
       "    }\n",
       "\n",
       "    .dataframe thead th {\n",
       "        text-align: right;\n",
       "    }\n",
       "</style>\n",
       "<table border=\"1\" class=\"dataframe\">\n",
       "  <thead>\n",
       "    <tr style=\"text-align: right;\">\n",
       "      <th></th>\n",
       "      <th>authors</th>\n",
       "      <th>cat</th>\n",
       "      <th>ctr</th>\n",
       "      <th>day</th>\n",
       "      <th>month</th>\n",
       "      <th>hour</th>\n",
       "      <th>weekend</th>\n",
       "      <th>holiday</th>\n",
       "      <th>full_affect</th>\n",
       "      <th>view_affect</th>\n",
       "      <th>...</th>\n",
       "      <th>tag_КНДР</th>\n",
       "      <th>tag_Виктор Орбан</th>\n",
       "      <th>tag_посол</th>\n",
       "      <th>tag_рубли</th>\n",
       "      <th>tag_главные новости</th>\n",
       "      <th>tag_пожары</th>\n",
       "      <th>tag_Джо Байден</th>\n",
       "      <th>tag_самолет</th>\n",
       "      <th>tag_Евросоюз</th>\n",
       "      <th>tag_Дети</th>\n",
       "    </tr>\n",
       "  </thead>\n",
       "  <tbody>\n",
       "    <tr>\n",
       "      <th>0</th>\n",
       "      <td>560</td>\n",
       "      <td>Военная операция на Украине</td>\n",
       "      <td>0.0</td>\n",
       "      <td>1</td>\n",
       "      <td>2</td>\n",
       "      <td>17</td>\n",
       "      <td>0</td>\n",
       "      <td>0</td>\n",
       "      <td>0</td>\n",
       "      <td>0</td>\n",
       "      <td>...</td>\n",
       "      <td>0</td>\n",
       "      <td>0</td>\n",
       "      <td>0</td>\n",
       "      <td>0</td>\n",
       "      <td>0</td>\n",
       "      <td>0</td>\n",
       "      <td>0</td>\n",
       "      <td>0</td>\n",
       "      <td>0</td>\n",
       "      <td>0</td>\n",
       "    </tr>\n",
       "  </tbody>\n",
       "</table>\n",
       "<p>1 rows × 264 columns</p>\n",
       "</div>"
      ],
      "text/plain": [
       "   authors                          cat  ctr  day  month  hour  weekend  \\\n",
       "0      560  Военная операция на Украине  0.0    1      2    17        0   \n",
       "\n",
       "   holiday  full_affect  view_affect  ...  tag_КНДР  tag_Виктор Орбан  \\\n",
       "0        0            0            0  ...         0                 0   \n",
       "\n",
       "   tag_посол  tag_рубли  tag_главные новости  tag_пожары  tag_Джо Байден  \\\n",
       "0          0          0                    0           0               0   \n",
       "\n",
       "   tag_самолет  tag_Евросоюз  tag_Дети  \n",
       "0            0             0         0  \n",
       "\n",
       "[1 rows x 264 columns]"
      ]
     },
     "execution_count": 37,
     "metadata": {},
     "output_type": "execute_result"
    }
   ],
   "source": [
    "print(len(df_test))\n",
    "df_test.head(1)"
   ]
  },
  {
   "cell_type": "markdown",
   "metadata": {},
   "source": [
    "### Делим датасет на признаки и целевую переменную"
   ]
  },
  {
   "cell_type": "code",
   "execution_count": 38,
   "metadata": {},
   "outputs": [],
   "source": [
    "X = df_train.drop(columns=['views', 'full_reads_percent','depth'])\n",
    "y_full = df_train['full_reads_percent']\n",
    "y_views = df_train['views']\n",
    "y_depth = df_train['depth']\n",
    "Y = [y_full, y_views, y_depth]"
   ]
  },
  {
   "cell_type": "markdown",
   "metadata": {},
   "source": [
    "### Ввыбираем категориальные колонки для OHE"
   ]
  },
  {
   "cell_type": "code",
   "execution_count": 42,
   "metadata": {},
   "outputs": [],
   "source": [
    "cat_cols = [0,1,3,4,5,224]"
   ]
  },
  {
   "cell_type": "markdown",
   "metadata": {},
   "source": [
    "### Высчитываем размерность всего OHE"
   ]
  },
  {
   "cell_type": "code",
   "execution_count": 63,
   "metadata": {},
   "outputs": [],
   "source": [
    "ohe_cols = 0\n",
    "for col in cat_cols:\n",
    "    ohe_cols += len(X[X.columns[col]].unique())"
   ]
  },
  {
   "cell_type": "markdown",
   "metadata": {},
   "source": [
    "### Предсказание таргетов"
   ]
  },
  {
   "cell_type": "code",
   "execution_count": 47,
   "metadata": {},
   "outputs": [],
   "source": [
    "model = CatBoostRegressor(random_state=0, verbose=0, one_hot_max_size=ohe_cols)\n",
    "model.fit(X, y_views, cat_features=cat_cols)\n",
    "views = model.predict(df_test)"
   ]
  },
  {
   "cell_type": "code",
   "execution_count": 51,
   "metadata": {},
   "outputs": [],
   "source": [
    "model = CatBoostRegressor(random_state=0, verbose=0, one_hot_max_size=ohe_cols)\n",
    "model.fit(X, y_full, cat_features=cat_cols)\n",
    "full = model.predict(df_test)"
   ]
  },
  {
   "cell_type": "code",
   "execution_count": 53,
   "metadata": {},
   "outputs": [],
   "source": [
    "model = CatBoostRegressor(random_state=0, verbose=0, one_hot_max_size=ohe_cols)\n",
    "model.fit(X, y_depth, cat_features=cat_cols)\n",
    "depth = model.predict(df_test)"
   ]
  },
  {
   "cell_type": "markdown",
   "metadata": {},
   "source": [
    "### Сохранение в файл"
   ]
  },
  {
   "cell_type": "code",
   "execution_count": 55,
   "metadata": {},
   "outputs": [],
   "source": [
    "test = pd.read_csv('test_dataset_test.csv', delimiter=',')\n",
    "\n",
    "voc = {'document_id': test['document_id'].values, 'views':views , 'depth':depth, 'full_reads_percent':full}\n",
    "res_df = pd.DataFrame(voc)\n",
    "res_df = res_df.set_index('document_id')\n",
    "res_df.to_csv('categories_catboost_ohe_tags_40_full_views_tags.csv')"
   ]
  }
 ],
 "metadata": {
  "kernelspec": {
   "display_name": "Python 3",
   "language": "python",
   "name": "python3"
  },
  "language_info": {
   "codemirror_mode": {
    "name": "ipython",
    "version": 3
   },
   "file_extension": ".py",
   "mimetype": "text/x-python",
   "name": "python",
   "nbconvert_exporter": "python",
   "pygments_lexer": "ipython3",
   "version": "3.8.5"
  }
 },
 "nbformat": 4,
 "nbformat_minor": 4
}
